{
  "cells": [
    {
      "cell_type": "markdown",
      "metadata": {
        "id": "t-pZQJvOu57N"
      },
      "source": [
        "Data preparation"
      ]
    },
    {
      "cell_type": "code",
      "execution_count": null,
      "metadata": {
        "id": "h710Fk3Yo7gc"
      },
      "outputs": [],
      "source": [
        "import pandas as pd"
      ]
    },
    {
      "cell_type": "code",
      "execution_count": 126,
      "metadata": {
        "id": "nAsYlUnYpXI8"
      },
      "outputs": [],
      "source": [
        "dataset = pd.read_csv('database_input.csv')\n"
      ]
    },
    {
      "cell_type": "code",
      "execution_count": 127,
      "metadata": {
        "id": "DauMCgOIvFpq"
      },
      "outputs": [],
      "source": [
        "# Nulls:\n",
        "dataset['TotalCharges'] = dataset['TotalCharges'].fillna(2279) # 2279 mean value in data\n",
        "dataset['TotalCharges'] = dataset['TotalCharges'].str.replace(' ','2279') # remove space string in data\n",
        "dataset['TotalCharges'] = dataset['TotalCharges'].astype(float)\n",
        "\n",
        "# Contract is a importnent feature in the model and cant be null, in case of null the model will not predict and need to sand alert.\n",
        "dataset['Contract'] = dataset['Contract'].dropna()\n",
        "\n",
        "dataset['PhoneService'].fillna('No')\n",
        "\n",
        "dataset['tenure'] = dataset['tenure'].fillna(dataset['tenure'].mean())"
      ]
    },
    {
      "cell_type": "code",
      "execution_count": 128,
      "metadata": {
        "id": "UiFgcDbNx0IM"
      },
      "outputs": [],
      "source": [
        "# Feature handeling:\n",
        "dataset['PhoneService'] = dataset['PhoneService'].map({'Yes':1,'No':0})\n",
        "\n",
        "dataset = dataset.join(pd.get_dummies(dataset['Contract']).astype(int))"
      ]
    },
    {
      "cell_type": "code",
      "execution_count": 130,
      "metadata": {
        "colab": {
          "base_uri": "https://localhost:8080/"
        },
        "id": "VWBgWAnwvFlC",
        "outputId": "775d4414-10a1-4bb3-bb7e-eb9b12d57e4c"
      },
      "outputs": [
        {
          "data": {
            "text/plain": [
              "array([1, 0, 1, ..., 0, 1, 0])"
            ]
          },
          "execution_count": 130,
          "metadata": {},
          "output_type": "execute_result"
        }
      ],
      "source": [
        "# TEST TO RUN MODEL\n",
        "result_columns = ['TotalCharges','Month-to-month','One year','Two year','PhoneService','tenure']\n",
        "\n",
        "with open('churn_model.pickle', 'rb') as f:\n",
        "    rf_model = pickle.load(f)\n",
        "\n",
        "rf_model.predict(dataset[result_columns])"
      ]
    }
  ],
  "metadata": {
    "colab": {
      "provenance": []
    },
    "kernelspec": {
      "display_name": "Python 3",
      "name": "python3"
    },
    "language_info": {
      "name": "python"
    }
  },
  "nbformat": 4,
  "nbformat_minor": 0
}
